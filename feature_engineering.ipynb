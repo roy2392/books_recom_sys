{
 "cells": [
  {
   "cell_type": "markdown",
   "metadata": {},
   "source": [
    "# <b><center>Feature Engineering</center></b>"
   ]
  },
  {
   "cell_type": "markdown",
   "metadata": {},
   "source": [
    "## Import libaries"
   ]
  },
  {
   "cell_type": "code",
   "execution_count": 1,
   "metadata": {},
   "outputs": [],
   "source": [
    "# ! pip install sentence_transformers"
   ]
  },
  {
   "cell_type": "code",
   "execution_count": 2,
   "metadata": {},
   "outputs": [],
   "source": [
    "import pandas as pd\n",
    "import numpy as np\n",
    "import matplotlib.pyplot as plt\n",
    "import seaborn as sns\n",
    "import os\n",
    "import warnings\n",
    "warnings.filterwarnings('ignore')\n",
    "from sentence_transformers import SentenceTransformer\n",
    "from sklearn.cluster import AgglomerativeClustering\n",
    "%matplotlib inline\n",
    "# Set the option to display all columns\n",
    "pd.set_option('display.max_columns', None)"
   ]
  },
  {
   "cell_type": "markdown",
   "metadata": {},
   "source": [
    "## Import Data"
   ]
  },
  {
   "cell_type": "code",
   "execution_count": 3,
   "metadata": {},
   "outputs": [],
   "source": [
    "df__bk_rat = pd.read_csv(r'/Users/royzalta/Downloads/archive/Book reviews/Book reviews/BX-Book-Ratings.csv', sep=';', encoding=\"latin-1\")\n",
    "df_bk_dt = pd.read_csv(r'/Users/royzalta/Downloads/archive/Book reviews/Book reviews/BX_Books.csv', sep=';', encoding=\"latin-1\")\n",
    "df_usr_dt = pd.read_csv('/Users/royzalta/Downloads/archive/Book reviews/Book reviews/BX-Users.csv', sep=';', encoding=\"latin-1\")\n",
    "prepo_df = pd.read_csv(r'/Users/royzalta/Downloads/archive/Books Data with Category Language and Summary/Preprocessed_data.csv')"
   ]
  },
  {
   "cell_type": "code",
   "execution_count": 4,
   "metadata": {},
   "outputs": [],
   "source": [
    "prepo_df.head()"
   ]
  },
  {
   "cell_type": "markdown",
   "metadata": {},
   "source": [
    "## Extract Features "
   ]
  },
  {
   "cell_type": "markdown",
   "metadata": {},
   "source": [
    "### Age Group"
   ]
  },
  {
   "cell_type": "code",
   "execution_count": 5,
   "metadata": {},
   "outputs": [],
   "source": [
    "# Define the number of age bins\n",
    "num_age_bins = 5  # You can adjust this number based on your preference\n",
    "\n",
    "# Create age bins\n",
    "prepo_df[\"age_group\"] = pd.cut(prepo_df[\"age\"], bins=num_age_bins, labels=False)"
   ]
  },
  {
   "cell_type": "code",
   "execution_count": 6,
   "metadata": {},
   "outputs": [],
   "source": [
    "prepo_df['age_group'].unique()"
   ]
  },
  {
   "cell_type": "markdown",
   "metadata": {},
   "source": [
    "### Continet"
   ]
  },
  {
   "cell_type": "code",
   "execution_count": 7,
   "metadata": {},
   "outputs": [],
   "source": [
    "def get_continent(country):\n",
    "    # Check for NaN values\n",
    "    if pd.isna(country):\n",
    "        return \"Other\"\n",
    "\n",
    "    # Define a mapping between continents and some keywords that might appear in country names\n",
    "    continent_mapping = {\n",
    "        \"North America\": [\"usa\", \"canada\", \"mexico\"],\n",
    "        \"Europe\": [\"europe\", \"uk\", \"germany\", \"france\", \"spain\", \"italy\"],\n",
    "        \"Asia\": [\"asia\", \"china\", \"japan\", \"india\"],\n",
    "        \"South America\": [\"south america\", \"brazil\", \"argentina\"],\n",
    "        \"Africa\": [\"africa\", \"nigeria\", \"egypt\", \"south africa\"],\n",
    "        \"Australia\": [\"australia\"],\n",
    "        \"Antarctica\": [\"antarctica\"]\n",
    "    }\n",
    "\n",
    "    # Check if any continent keyword is present in the country name\n",
    "    country = country.lower()\n",
    "    for continent, keywords in continent_mapping.items():\n",
    "        for keyword in keywords:\n",
    "            if keyword in country:\n",
    "                return continent\n",
    "\n",
    "    # If no continent is found, return \"Other\"\n",
    "    return \"Other\"\n",
    "\n",
    "prepo_df[\"continent\"] = prepo_df[\"country\"].apply(get_continent)"
   ]
  },
  {
   "cell_type": "code",
   "execution_count": 8,
   "metadata": {},
   "outputs": [],
   "source": [
    "prepo_df.head()"
   ]
  },
  {
   "cell_type": "markdown",
   "metadata": {},
   "source": [
    "### Books categories "
   ]
  },
  {
   "cell_type": "code",
   "execution_count": 9,
   "metadata": {},
   "outputs": [],
   "source": [
    "prepo_df['Category'].nunique()"
   ]
  },
  {
   "cell_type": "markdown",
   "metadata": {},
   "source": [
    "we need to minimize it"
   ]
  },
  {
   "cell_type": "code",
   "execution_count": 10,
   "metadata": {},
   "outputs": [],
   "source": [
    "prepo_df.groupby(['Category'])['Category'].count().sort_values()"
   ]
  },
  {
   "cell_type": "markdown",
   "metadata": {},
   "source": [
    "let's clean commas and puncuations "
   ]
  },
  {
   "cell_type": "code",
   "execution_count": 11,
   "metadata": {},
   "outputs": [],
   "source": [
    "prepo_df['Category'] = prepo_df['Category'].str.strip(r'[]\\'.,\\\"')"
   ]
  },
  {
   "cell_type": "code",
   "execution_count": 12,
   "metadata": {},
   "outputs": [],
   "source": [
    "prepo_df.groupby(['Category'])['Category'].count()"
   ]
  },
  {
   "cell_type": "markdown",
   "metadata": {},
   "source": [
    "we lowered the number from 6,448 to 6,172. next, lets continue to minimize. how many categories are with more than 1,000 books?"
   ]
  },
  {
   "cell_type": "code",
   "execution_count": 13,
   "metadata": {},
   "outputs": [],
   "source": [
    "len(prepo_df.groupby(['Category'])['Category'].count()[prepo_df.groupby(['Category'])['Category'].count()>1000])"
   ]
  },
  {
   "cell_type": "markdown",
   "metadata": {},
   "source": [
    "unite similar categories"
   ]
  },
  {
   "cell_type": "code",
   "execution_count": 14,
   "metadata": {},
   "outputs": [],
   "source": [
    "prepo_df['Category'] = prepo_df['Category'].apply(lambda txt: txt if txt[0:11]!='Young Adult' else 'Young Adult')\n",
    "prepo_df['Category'] = prepo_df['Category'].apply(lambda txt: txt if txt[0:11]!='Young adult' else 'Young Adult')\n",
    "prepo_df['Category'] = prepo_df['Category'].apply(lambda txt: txt if txt[0:3]!='Zoo' else 'Zoo')\n",
    "prepo_df['Category'] = prepo_df['Category'].apply(lambda txt: txt if txt[0:7]!='Cookery' else 'Cookery')\n",
    "#create a a higher hierarchy for category\n",
    "prepo_df['big_Category'] = prepo_df['Category'].copy()\n",
    "prepo_df['big_Category'] = prepo_df['big_Category'].apply(lambda txt: 'literary' if 'literary' in txt else txt)\n",
    "prepo_df['big_Category'] = prepo_df['big_Category'].apply(lambda txt: 'fiction' if 'fiction' in txt else txt)"
   ]
  },
  {
   "cell_type": "code",
   "execution_count": 15,
   "metadata": {},
   "outputs": [],
   "source": [
    "prepo_df['Category'] = prepo_df['Category'].str.lower()"
   ]
  },
  {
   "cell_type": "code",
   "execution_count": 16,
   "metadata": {},
   "outputs": [],
   "source": [
    "prepo_df.groupby(['Category'])['Category'].count()[prepo_df.groupby(['Category'])['Category'].count()>1000].sort_values(ascending=False)#[df.groupby(['Category'])['Category'].count()>500]"
   ]
  },
  {
   "cell_type": "code",
   "execution_count": 17,
   "metadata": {},
   "outputs": [],
   "source": [
    "prepo_df.groupby(['Category'])['Category'].count()"
   ]
  },
  {
   "cell_type": "markdown",
   "metadata": {},
   "source": [
    "#### BERT to caculate categories similarity"
   ]
  },
  {
   "cell_type": "code",
   "execution_count": 18,
   "metadata": {},
   "outputs": [],
   "source": [
    "# Create a SentenceTransformer model (BERT-based)\n",
    "model = SentenceTransformer(\"bert-base-nli-mean-tokens\")"
   ]
  },
  {
   "cell_type": "code",
   "execution_count": null,
   "metadata": {},
   "outputs": [],
   "source": [
    "# Encode category names into embeddings\n",
    "category_embeddings = model.encode(prepo_df[\"Category\"], show_progress_bar=True)"
   ]
  },
  {
   "cell_type": "code",
   "execution_count": null,
   "metadata": {},
   "outputs": [],
   "source": [
    "# Use Agglomerative Clustering to group similar categories\n",
    "clustering_model = AgglomerativeClustering(n_clusters=10)  # You can adjust the number of clusters\n",
    "clusters = clustering_model.fit_predict(category_embeddings)\n",
    "\n",
    "# Assign cluster labels to the DataFrame\n",
    "df_filtered[\"grouped_category\"] = clusters"
   ]
  },
  {
   "cell_type": "markdown",
   "metadata": {},
   "source": [
    "### Save to new csv "
   ]
  },
  {
   "cell_type": "code",
   "execution_count": null,
   "metadata": {},
   "outputs": [],
   "source": [
    "#Save the modified DataFrame back to a CSV file if needed\n",
    "data.to_csv(\"processed_data_upd.csv\", index=False)"
   ]
  }
 ],
 "metadata": {
  "kernelspec": {
   "display_name": "Python 3 (ipykernel)",
   "language": "python",
   "name": "python3"
  },
  "language_info": {
   "codemirror_mode": {
    "name": "ipython",
    "version": 3
   },
   "file_extension": ".py",
   "mimetype": "text/x-python",
   "name": "python",
   "nbconvert_exporter": "python",
   "pygments_lexer": "ipython3",
   "version": "3.11.3"
  }
 },
 "nbformat": 4,
 "nbformat_minor": 2
}
