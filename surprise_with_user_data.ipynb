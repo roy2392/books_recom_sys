{
 "cells": [
  {
   "cell_type": "code",
   "execution_count": 3,
   "id": "21403799",
   "metadata": {},
   "outputs": [
    {
     "name": "stdout",
     "output_type": "stream",
     "text": [
      "Collecting pydot\n",
      "  Downloading pydot-1.4.2-py2.py3-none-any.whl (21 kB)\n",
      "Requirement already satisfied: pyparsing>=2.1.4 in /Users/royzalta/anaconda3/lib/python3.11/site-packages (from pydot) (3.0.9)\n",
      "Installing collected packages: pydot\n",
      "Successfully installed pydot-1.4.2\n",
      "Collecting graphviz\n",
      "  Downloading graphviz-0.20.1-py3-none-any.whl (47 kB)\n",
      "\u001b[2K     \u001b[90m━━━━━━━━━━━━━━━━━━━━━━━━━━━━━━━━━━━━━━━\u001b[0m \u001b[32m47.0/47.0 kB\u001b[0m \u001b[31m737.7 kB/s\u001b[0m eta \u001b[36m0:00:00\u001b[0ma \u001b[36m0:00:01\u001b[0m\n",
      "\u001b[?25hInstalling collected packages: graphviz\n",
      "Successfully installed graphviz-0.20.1\n"
     ]
    }
   ],
   "source": [
    "! pip install pydot \n",
    "! pip install graphviz"
   ]
  },
  {
   "cell_type": "code",
   "execution_count": 1,
   "id": "ff9f9049",
   "metadata": {},
   "outputs": [
    {
     "ename": "ModuleNotFoundError",
     "evalue": "No module named 'pydot'",
     "output_type": "error",
     "traceback": [
      "\u001b[0;31m---------------------------------------------------------------------------\u001b[0m",
      "\u001b[0;31mModuleNotFoundError\u001b[0m                       Traceback (most recent call last)",
      "Cell \u001b[0;32mIn[1], line 1\u001b[0m\n\u001b[0;32m----> 1\u001b[0m \u001b[38;5;28;01mimport\u001b[39;00m \u001b[38;5;21;01mmath\u001b[39;00m\u001b[38;5;241m,\u001b[39m \u001b[38;5;21;01mpydot\u001b[39;00m\u001b[38;5;241m,\u001b[39m \u001b[38;5;21;01mgraphviz\u001b[39;00m\n\u001b[1;32m      2\u001b[0m \u001b[38;5;28;01mimport\u001b[39;00m \u001b[38;5;21;01mnumpy\u001b[39;00m \u001b[38;5;28;01mas\u001b[39;00m \u001b[38;5;21;01mnp\u001b[39;00m\n\u001b[1;32m      3\u001b[0m \u001b[38;5;28;01mimport\u001b[39;00m \u001b[38;5;21;01mpandas\u001b[39;00m \u001b[38;5;28;01mas\u001b[39;00m \u001b[38;5;21;01mpd\u001b[39;00m\n",
      "\u001b[0;31mModuleNotFoundError\u001b[0m: No module named 'pydot'"
     ]
    }
   ],
   "source": [
    "import math, pydot, graphviz\n",
    "import numpy as np\n",
    "import pandas as pd\n",
    "from collections import defaultdict\n",
    "# Split the data into train and test sets\n",
    "# importing relevant libraries\n",
    "from sklearn.model_selection import train_test_split"
   ]
  },
  {
   "cell_type": "code",
   "execution_count": null,
   "id": "94f51cb7",
   "metadata": {},
   "outputs": [],
   "source": [
    "#!pip install pydot"
   ]
  },
  {
   "cell_type": "code",
   "execution_count": null,
   "id": "a147fb01",
   "metadata": {},
   "outputs": [],
   "source": [
    "#!pip install graphviz"
   ]
  },
  {
   "cell_type": "code",
   "execution_count": null,
   "id": "7cdeb039",
   "metadata": {},
   "outputs": [],
   "source": [
    "df = pd.read_csv(r'/Users/royzalta/Downloads/archive/Books Data with Category Language and Summary/Preprocessed_data.csv')"
   ]
  },
  {
   "cell_type": "code",
   "execution_count": null,
   "id": "210bda7e",
   "metadata": {},
   "outputs": [],
   "source": [
    "df = pd.read_csv(r\"C:\\Users\\yotam\\Desktop\\naya\\Preprocessed_data.csv\")"
   ]
  },
  {
   "cell_type": "code",
   "execution_count": null,
   "id": "b91ea0e4",
   "metadata": {},
   "outputs": [],
   "source": [
    "df.head()"
   ]
  },
  {
   "cell_type": "code",
   "execution_count": null,
   "id": "f17e2622",
   "metadata": {},
   "outputs": [],
   "source": [
    "df_isbn = df['isbn']\n",
    "num_dict = {}\n",
    "for i,j in enumerate(df_isbn.unique()):\n",
    "    num_dict[j]=i\n",
    "df['isbn_num'] = df['isbn'].apply(lambda txt: num_dict[txt])"
   ]
  },
  {
   "cell_type": "code",
   "execution_count": null,
   "id": "ec398389",
   "metadata": {},
   "outputs": [],
   "source": [
    "#split to train andtest while keeping each user in the train and test data\n",
    "train_users, test_users = train_test_split(df, test_size = 0.2 , random_state= 42)"
   ]
  },
  {
   "cell_type": "code",
   "execution_count": null,
   "id": "75dd7251",
   "metadata": {},
   "outputs": [],
   "source": [
    "x_train = train_users.drop(columns=['rating'])\n",
    "y_train = train_users[\"rating\"]\n",
    "\n",
    "x_test = test_users.drop(columns=['rating'])\n",
    "y_test = test_users[\"rating\"]"
   ]
  },
  {
   "cell_type": "markdown",
   "id": "a5f0e259",
   "metadata": {},
   "source": [
    "## Implemation of TenserFlow"
   ]
  },
  {
   "cell_type": "code",
   "execution_count": null,
   "id": "fa20c4a5",
   "metadata": {},
   "outputs": [],
   "source": [
    "all_users = train_users[\"user_id\"].unique()\n",
    "all_books = train_users[\"isbn_num\"].unique()"
   ]
  },
  {
   "cell_type": "code",
   "execution_count": null,
   "id": "94c5b659",
   "metadata": {},
   "outputs": [],
   "source": [
    "import tensorflow as tf\n",
    "from tensorflow.keras.utils import plot_model"
   ]
  },
  {
   "cell_type": "code",
   "execution_count": null,
   "id": "e662506b",
   "metadata": {},
   "outputs": [],
   "source": [
    "# user pipeline\n",
    "user_input = tf.keras.layers.Input(shape=(1,), name=\"user\")\n",
    "user_as_integer = tf.keras.layers.IntegerLookup(vocabulary=all_users)(user_input)\n",
    "user_embedding = tf.keras.layers.Embedding(input_dim=len(all_users)+1, output_dim=32)(user_as_integer)"
   ]
  },
  {
   "cell_type": "code",
   "execution_count": null,
   "id": "39b5af7a",
   "metadata": {},
   "outputs": [],
   "source": [
    "# book pipeline\n",
    "book_input = tf.keras.layers.Input(shape=(1,), name=\"book\")\n",
    "book_as_integer = tf.keras.layers.IntegerLookup(vocabulary=all_books)(book_input)\n",
    "book_embedding = tf.keras.layers.Embedding(input_dim=len(all_books)+1, output_dim=32)(book_as_integer)"
   ]
  },
  {
   "cell_type": "code",
   "execution_count": null,
   "id": "c1e79ca0",
   "metadata": {},
   "outputs": [],
   "source": [
    "# dot product\n",
    "dot = tf.keras.layers.Dot(axes=2)([user_embedding, book_embedding])\n",
    "flatten = tf.keras.layers.Flatten()(dot)"
   ]
  },
  {
   "cell_type": "code",
   "execution_count": null,
   "id": "2041667f",
   "metadata": {},
   "outputs": [],
   "source": [
    "# model input/output definition\n",
    "model = tf.keras.Model(inputs=[user_input, book_input], outputs=flatten)"
   ]
  },
  {
   "cell_type": "code",
   "execution_count": null,
   "id": "19ecfd6a",
   "metadata": {},
   "outputs": [],
   "source": [
    "model.compile(loss=\"mse\", metrics=[tf.keras.metrics.MeanAbsoluteError()])"
   ]
  },
  {
   "cell_type": "code",
   "execution_count": null,
   "id": "ba39d123",
   "metadata": {},
   "outputs": [],
   "source": [
    "## this model is quite bad with an avg of 3 starts in rating deviation\n",
    "# model.fit(\n",
    "#     x={\n",
    "#         \"user\": x_train[\"user_id\"],\n",
    "#         \"book\": x_train[\"isbn_num\"]\n",
    "#     },\n",
    "#     y=y_train.values,\n",
    "#     batch_size=256,\n",
    "#     epochs=100,\n",
    "#     validation_split=0.1, # for early stopping\n",
    "#     callbacks=[\n",
    "#         tf.keras.callbacks.EarlyStopping(patience=1, restore_best_weights=True)\n",
    "#     ],\n",
    "# )\n"
   ]
  },
  {
   "cell_type": "code",
   "execution_count": null,
   "id": "dacc95a2",
   "metadata": {},
   "outputs": [],
   "source": []
  },
  {
   "cell_type": "markdown",
   "id": "baf0ed77",
   "metadata": {},
   "source": [
    "# full pipline"
   ]
  },
  {
   "cell_type": "code",
   "execution_count": null,
   "id": "e2a4b50d",
   "metadata": {},
   "outputs": [],
   "source": [
    "user_input = tf.keras.layers.Input(shape=(1,), name=\"user\")\n",
    "user_as_integer = tf.keras.layers.IntegerLookup(vocabulary=all_users)(user_input)\n",
    "user_embedding = tf.keras.layers.Embedding(input_dim=len(all_users) + 1, output_dim=32)(user_as_integer)\n",
    "user_bias = tf.keras.layers.Embedding(input_dim=len(all_users) + 1, output_dim=1)(user_as_integer)\n",
    "\n",
    "book_input = tf.keras.layers.Input(shape=(1,), name=\"book\")\n",
    "book_as_integer = tf.keras.layers.IntegerLookup(vocabulary=all_books)(book_input)\n",
    "book_embedding = tf.keras.layers.Embedding(input_dim=len(all_books) + 1, output_dim=32)(book_as_integer)\n",
    "book_bias = tf.keras.layers.Embedding(input_dim=len(all_books) + 1, output_dim=1)(book_as_integer)\n",
    "\n",
    "dot = tf.keras.layers.Dot(axes=2)([user_embedding, book_embedding])\n",
    "add = tf.keras.layers.Add()([dot, user_bias, book_bias])\n",
    "flatten = tf.keras.layers.Flatten()(add)\n",
    "squash = tf.keras.layers.Lambda(lambda x: 4 * tf.nn.sigmoid(x) + 1)(flatten)\n",
    "\n",
    "model = tf.keras.Model(inputs=[user_input, book_input], outputs=squash)\n",
    "\n",
    "\n",
    "model.compile(loss=\"mse\", metrics=[tf.keras.metrics.MeanAbsoluteError()])\n"
   ]
  },
  {
   "cell_type": "code",
   "execution_count": null,
   "id": "1eb7fa2a",
   "metadata": {},
   "outputs": [],
   "source": [
    "#  model.fit(\n",
    "#      x={\n",
    "#          \"user\": x_train[\"user_id\"],\n",
    "#          \"book\": x_train[\"isbn_num\"]\n",
    "#      },\n",
    "#      y=y_train.values,\n",
    "#      batch_size=256,\n",
    "#      epochs=4,\n",
    "#      validation_split=0.1, # for early stopping\n",
    "#      callbacks=[\n",
    "#          tf.keras.callbacks.EarlyStopping(patience=1, restore_best_weights=True)\n",
    "#      ],\n",
    "#  )\n"
   ]
  },
  {
   "cell_type": "markdown",
   "id": "24ce078f",
   "metadata": {},
   "source": [
    "add user data"
   ]
  },
  {
   "cell_type": "code",
   "execution_count": null,
   "id": "56b6d42f",
   "metadata": {},
   "outputs": [],
   "source": [
    "user_input = tf.keras.layers.Input(shape=(2,), name=\"user\")\n",
    "user_as_integer = tf.keras.layers.IntegerLookup(vocabulary=all_users)(user_input)\n",
    "user_embedding = tf.keras.layers.Embedding(input_dim=len(all_users) + 1, output_dim=32)(user_as_integer)\n",
    "user_bias = tf.keras.layers.Embedding(input_dim=len(all_users) + 1, output_dim=1)(user_as_integer)\n",
    "\n",
    "book_input = tf.keras.layers.Input(shape=(1,), name=\"book\")\n",
    "book_as_integer = tf.keras.layers.IntegerLookup(vocabulary=all_books)(book_input)\n",
    "book_embedding = tf.keras.layers.Embedding(input_dim=len(all_books) + 1, output_dim=32)(book_as_integer)\n",
    "book_bias = tf.keras.layers.Embedding(input_dim=len(all_books) + 1, output_dim=1)(book_as_integer)\n",
    "\n",
    "dot = tf.keras.layers.Dot(axes=2)([user_embedding, book_embedding])\n",
    "add = tf.keras.layers.Add()([dot, user_bias, book_bias])\n",
    "flatten = tf.keras.layers.Flatten()(add)\n",
    "squash = tf.keras.layers.Lambda(lambda x: 4 * tf.nn.sigmoid(x) + 1)(flatten)\n",
    "\n",
    "model = tf.keras.Model(inputs=[user_input, book_input], outputs=squash)\n",
    "\n",
    "\n",
    "model.compile(loss=\"mse\", metrics=[tf.keras.metrics.MeanAbsoluteError(),tf.keras.metrics.RootMeanSquaredError()])\n"
   ]
  },
  {
   "cell_type": "code",
   "execution_count": null,
   "id": "752223c4",
   "metadata": {
    "scrolled": true
   },
   "outputs": [],
   "source": [
    " model.fit(\n",
    "     x={\n",
    "         \"user\": x_train[[\"user_id\",'age','']],\n",
    "         \"book\": x_train[\"isbn_num\"]\n",
    "     },\n",
    "     y=y_train.values,\n",
    "     batch_size=256,\n",
    "     epochs=5,\n",
    "     validation_split=0.1, # for early stopping\n",
    "     callbacks=[\n",
    "         tf.keras.callbacks.EarlyStopping(patience=2, restore_best_weights=True)\n",
    "     ],\n",
    " )\n"
   ]
  },
  {
   "cell_type": "code",
   "execution_count": null,
   "id": "5287f338",
   "metadata": {},
   "outputs": [],
   "source": [
    "pred = model.predict(x_test)"
   ]
  },
  {
   "cell_type": "code",
   "execution_count": null,
   "id": "93407c6d",
   "metadata": {},
   "outputs": [],
   "source": [
    "pred = model.predict({\n",
    "    \"user\": x_test[[\"user_id\",'age','Language','country']],#.reshape(-1, 1), # fill user 1 in many times\n",
    "    \"book\": x_test[\"isbn_num\"]#.reshape(-1, 1)\n",
    "})\n"
   ]
  },
  {
   "cell_type": "code",
   "execution_count": null,
   "id": "a84936af",
   "metadata": {},
   "outputs": [],
   "source": [
    "model.evaluate({\n",
    "    \"user\": x_test[[\"user_id\",'age','Language','country']],#.reshape(-1, 1), # fill user 1 in many times\n",
    "    \"book\": x_test[\"isbn_num\"]#.reshape(-1, 1)\n",
    "},y_test)"
   ]
  },
  {
   "cell_type": "code",
   "execution_count": null,
   "id": "690bf38b",
   "metadata": {},
   "outputs": [],
   "source": [
    "y_test"
   ]
  },
  {
   "cell_type": "code",
   "execution_count": null,
   "id": "12e03a7a",
   "metadata": {},
   "outputs": [],
   "source": [
    "pred"
   ]
  },
  {
   "cell_type": "code",
   "execution_count": null,
   "id": "a5354b17",
   "metadata": {},
   "outputs": [],
   "source": [
    "import keras\n",
    "import pydot\n",
    "import pydotplus\n",
    "from pydotplus import graphviz\n",
    "from keras.utils import plot_model\n",
    "from keras.utils import model_to_dot\n",
    "keras.utils.pydot = pydot\n",
    "plot_model(model)"
   ]
  }
 ],
 "metadata": {
  "kernelspec": {
   "display_name": "Python 3 (ipykernel)",
   "language": "python",
   "name": "python3"
  },
  "language_info": {
   "codemirror_mode": {
    "name": "ipython",
    "version": 3
   },
   "file_extension": ".py",
   "mimetype": "text/x-python",
   "name": "python",
   "nbconvert_exporter": "python",
   "pygments_lexer": "ipython3",
   "version": "3.11.3"
  }
 },
 "nbformat": 4,
 "nbformat_minor": 5
}
