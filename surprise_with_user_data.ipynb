{
 "cells": [
  {
   "cell_type": "code",
   "execution_count": 1,
   "id": "0ded8d17",
   "metadata": {},
   "outputs": [],
   "source": [
    "import math\n",
    "import numpy as np\n",
    "import pandas as pd\n",
    "from collections import defaultdict\n",
    "# Split the data into train and test sets\n",
    "# importing relevant libraries\n",
    "from sklearn.model_selection import train_test_split"
   ]
  },
  {
   "cell_type": "code",
   "execution_count": 2,
   "id": "d403c6df",
   "metadata": {},
   "outputs": [],
   "source": [
    "df = pd.read_csv(r'/Users/royzalta/Downloads/archive/Books Data with Category Language and Summary/Preprocessed_data.csv')"
   ]
  },
  {
   "cell_type": "code",
   "execution_count": 3,
   "id": "23729113",
   "metadata": {},
   "outputs": [],
   "source": [
    "df_isbn = df['isbn']\n",
    "num_dict = {}\n",
    "for i,j in enumerate(df_isbn.unique()):\n",
    "    num_dict[i]=j"
   ]
  },
  {
   "cell_type": "code",
   "execution_count": 4,
   "id": "01eb38eb",
   "metadata": {},
   "outputs": [],
   "source": [
    "df_isbn = df['isbn']\n",
    "num_dict = {}\n",
    "for i,j in enumerate(df_isbn.unique()):\n",
    "    num_dict[j]=i\n",
    "df['isbn_num'] = df['isbn'].apply(lambda txt: num_dict[txt])"
   ]
  },
  {
   "cell_type": "code",
   "execution_count": 5,
   "id": "927e4805",
   "metadata": {},
   "outputs": [],
   "source": [
    "#split to train andtest while keeping each user in the train and test data\n",
    "train_users, test_users = train_test_split(df, test_size = 0.3 , random_state= 42)"
   ]
  },
  {
   "cell_type": "code",
   "execution_count": 6,
   "id": "19764889",
   "metadata": {},
   "outputs": [],
   "source": [
    "x_train = train_users.drop(columns=['rating'])\n",
    "y_train = train_users[\"rating\"]\n",
    "\n",
    "x_test = test_users.drop(columns=['rating'])\n",
    "y_test = test_users[\"rating\"]"
   ]
  },
  {
   "cell_type": "markdown",
   "id": "196f890c",
   "metadata": {},
   "source": [
    "## Implemation of TenserFlow"
   ]
  },
  {
   "cell_type": "code",
   "execution_count": 7,
   "id": "44059131",
   "metadata": {},
   "outputs": [],
   "source": [
    "all_users = train_users[\"user_id\"].unique()\n",
    "all_books = train_users[\"isbn_num\"].unique()"
   ]
  },
  {
   "cell_type": "code",
   "execution_count": 8,
   "id": "ae691d82",
   "metadata": {},
   "outputs": [],
   "source": [
    "import tensorflow as tf"
   ]
  },
  {
   "cell_type": "code",
   "execution_count": 9,
   "id": "ed3a9dde",
   "metadata": {},
   "outputs": [],
   "source": [
    "# user pipeline\n",
    "user_input = tf.keras.layers.Input(shape=(1,), name=\"user\")\n",
    "user_as_integer = tf.keras.layers.IntegerLookup(vocabulary=all_users)(user_input)\n",
    "user_embedding = tf.keras.layers.Embedding(input_dim=len(all_users)+1, output_dim=32)(user_as_integer)"
   ]
  },
  {
   "cell_type": "code",
   "execution_count": 10,
   "id": "ad423f1e",
   "metadata": {},
   "outputs": [],
   "source": [
    "# book pipeline\n",
    "book_input = tf.keras.layers.Input(shape=(1,), name=\"book\")\n",
    "book_as_integer = tf.keras.layers.IntegerLookup(vocabulary=all_books)(book_input)\n",
    "book_embedding = tf.keras.layers.Embedding(input_dim=len(all_books)+1, output_dim=32)(book_as_integer)"
   ]
  },
  {
   "cell_type": "code",
   "execution_count": 11,
   "id": "9673cf02",
   "metadata": {},
   "outputs": [],
   "source": [
    "# dot product\n",
    "dot = tf.keras.layers.Dot(axes=2)([user_embedding, book_embedding])\n",
    "flatten = tf.keras.layers.Flatten()(dot)"
   ]
  },
  {
   "cell_type": "code",
   "execution_count": 12,
   "id": "4351ca33",
   "metadata": {},
   "outputs": [],
   "source": [
    "# model input/output definition\n",
    "model = tf.keras.Model(inputs=[user_input, book_input], outputs=flatten)"
   ]
  },
  {
   "cell_type": "code",
   "execution_count": 13,
   "id": "08823f80",
   "metadata": {},
   "outputs": [],
   "source": [
    "model.compile(loss=\"mse\", metrics=[tf.keras.metrics.MeanAbsoluteError()])"
   ]
  },
  {
   "cell_type": "code",
   "execution_count": null,
   "id": "4e767fe4",
   "metadata": {},
   "outputs": [
    {
     "name": "stdout",
     "output_type": "stream",
     "text": [
      "Epoch 1/100\n",
      "2226/2538 [=========================>....] - ETA: 6s - loss: 22.8761 - mean_absolute_error: 2.8367"
     ]
    }
   ],
   "source": [
    "model.fit(\n",
    "    x={\n",
    "        \"user\": x_train[\"user_id\"],\n",
    "        \"book\": x_train[\"isbn_num\"]\n",
    "    },\n",
    "    y=y_train.values,\n",
    "    batch_size=256,\n",
    "    epochs=100,\n",
    "    validation_split=0.1, # for early stopping\n",
    "    callbacks=[\n",
    "        tf.keras.callbacks.EarlyStopping(patience=1, restore_best_weights=True)\n",
    "    ],\n",
    ")\n"
   ]
  },
  {
   "cell_type": "code",
   "execution_count": null,
   "id": "795a3b3f",
   "metadata": {},
   "outputs": [],
   "source": []
  }
 ],
 "metadata": {
  "kernelspec": {
   "display_name": "Python 3 (ipykernel)",
   "language": "python",
   "name": "python3"
  },
  "language_info": {
   "codemirror_mode": {
    "name": "ipython",
    "version": 3
   },
   "file_extension": ".py",
   "mimetype": "text/x-python",
   "name": "python",
   "nbconvert_exporter": "python",
   "pygments_lexer": "ipython3",
   "version": "3.11.3"
  }
 },
 "nbformat": 4,
 "nbformat_minor": 5
}
