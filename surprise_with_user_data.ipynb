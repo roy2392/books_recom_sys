{
 "cells": [
  {
   "cell_type": "code",
   "execution_count": 3,
<<<<<<< HEAD
   "id": "21403799",
   "metadata": {},
   "outputs": [
    {
     "name": "stdout",
     "output_type": "stream",
     "text": [
      "Collecting pydot\n",
      "  Downloading pydot-1.4.2-py2.py3-none-any.whl (21 kB)\n",
      "Requirement already satisfied: pyparsing>=2.1.4 in /Users/royzalta/anaconda3/lib/python3.11/site-packages (from pydot) (3.0.9)\n",
      "Installing collected packages: pydot\n",
      "Successfully installed pydot-1.4.2\n",
      "Collecting graphviz\n",
      "  Downloading graphviz-0.20.1-py3-none-any.whl (47 kB)\n",
      "\u001b[2K     \u001b[90m━━━━━━━━━━━━━━━━━━━━━━━━━━━━━━━━━━━━━━━\u001b[0m \u001b[32m47.0/47.0 kB\u001b[0m \u001b[31m737.7 kB/s\u001b[0m eta \u001b[36m0:00:00\u001b[0ma \u001b[36m0:00:01\u001b[0m\n",
      "\u001b[?25hInstalling collected packages: graphviz\n",
      "Successfully installed graphviz-0.20.1\n"
     ]
    }
   ],
   "source": [
    "! pip install pydot \n",
    "! pip install graphviz"
   ]
  },
  {
   "cell_type": "code",
   "execution_count": 1,
=======
>>>>>>> c61e54d7106168277265c6c0cd64940cf08e25a4
   "id": "ff9f9049",
   "metadata": {},
   "outputs": [
    {
     "ename": "ModuleNotFoundError",
     "evalue": "No module named 'pydot'",
     "output_type": "error",
     "traceback": [
      "\u001b[0;31m---------------------------------------------------------------------------\u001b[0m",
      "\u001b[0;31mModuleNotFoundError\u001b[0m                       Traceback (most recent call last)",
      "Cell \u001b[0;32mIn[1], line 1\u001b[0m\n\u001b[0;32m----> 1\u001b[0m \u001b[38;5;28;01mimport\u001b[39;00m \u001b[38;5;21;01mmath\u001b[39;00m\u001b[38;5;241m,\u001b[39m \u001b[38;5;21;01mpydot\u001b[39;00m\u001b[38;5;241m,\u001b[39m \u001b[38;5;21;01mgraphviz\u001b[39;00m\n\u001b[1;32m      2\u001b[0m \u001b[38;5;28;01mimport\u001b[39;00m \u001b[38;5;21;01mnumpy\u001b[39;00m \u001b[38;5;28;01mas\u001b[39;00m \u001b[38;5;21;01mnp\u001b[39;00m\n\u001b[1;32m      3\u001b[0m \u001b[38;5;28;01mimport\u001b[39;00m \u001b[38;5;21;01mpandas\u001b[39;00m \u001b[38;5;28;01mas\u001b[39;00m \u001b[38;5;21;01mpd\u001b[39;00m\n",
      "\u001b[0;31mModuleNotFoundError\u001b[0m: No module named 'pydot'"
     ]
    }
   ],
   "source": [
    "import math, pydot, graphviz\n",
    "import numpy as np\n",
    "import pandas as pd\n",
    "from collections import defaultdict\n",
    "# Split the data into train and test sets\n",
    "# importing relevant libraries\n",
    "from sklearn.model_selection import train_test_split"
   ]
  },
  {
   "cell_type": "code",
   "execution_count": null,
   "id": "94f51cb7",
   "metadata": {},
   "outputs": [],
   "source": [
    "#!pip install pydot"
   ]
  },
  {
   "cell_type": "code",
   "execution_count": null,
   "id": "a147fb01",
   "metadata": {},
   "outputs": [],
   "source": [
    "#!pip install graphviz"
   ]
  },
  {
   "cell_type": "code",
<<<<<<< HEAD
   "execution_count": null,
=======
   "execution_count": 4,
>>>>>>> c61e54d7106168277265c6c0cd64940cf08e25a4
   "id": "7cdeb039",
   "metadata": {},
   "outputs": [
    {
     "ename": "FileNotFoundError",
     "evalue": "[Errno 2] No such file or directory: '/Users/royzalta/Downloads/archive/Books Data with Category Language and Summary/Preprocessed_data.csv'",
     "output_type": "error",
     "traceback": [
      "\u001b[1;31m---------------------------------------------------------------------------\u001b[0m",
      "\u001b[1;31mFileNotFoundError\u001b[0m                         Traceback (most recent call last)",
      "\u001b[1;32m~\\AppData\\Local\\Temp\\ipykernel_11072\\2014398614.py\u001b[0m in \u001b[0;36m<module>\u001b[1;34m\u001b[0m\n\u001b[1;32m----> 1\u001b[1;33m \u001b[0mdf\u001b[0m \u001b[1;33m=\u001b[0m \u001b[0mpd\u001b[0m\u001b[1;33m.\u001b[0m\u001b[0mread_csv\u001b[0m\u001b[1;33m(\u001b[0m\u001b[1;34mr'/Users/royzalta/Downloads/archive/Books Data with Category Language and Summary/Preprocessed_data.csv'\u001b[0m\u001b[1;33m)\u001b[0m\u001b[1;33m\u001b[0m\u001b[1;33m\u001b[0m\u001b[0m\n\u001b[0m",
      "\u001b[1;32mC:\\ProgramData\\Anaconda3\\lib\\site-packages\\pandas\\util\\_decorators.py\u001b[0m in \u001b[0;36mwrapper\u001b[1;34m(*args, **kwargs)\u001b[0m\n\u001b[0;32m    309\u001b[0m                     \u001b[0mstacklevel\u001b[0m\u001b[1;33m=\u001b[0m\u001b[0mstacklevel\u001b[0m\u001b[1;33m,\u001b[0m\u001b[1;33m\u001b[0m\u001b[1;33m\u001b[0m\u001b[0m\n\u001b[0;32m    310\u001b[0m                 )\n\u001b[1;32m--> 311\u001b[1;33m             \u001b[1;32mreturn\u001b[0m \u001b[0mfunc\u001b[0m\u001b[1;33m(\u001b[0m\u001b[1;33m*\u001b[0m\u001b[0margs\u001b[0m\u001b[1;33m,\u001b[0m \u001b[1;33m**\u001b[0m\u001b[0mkwargs\u001b[0m\u001b[1;33m)\u001b[0m\u001b[1;33m\u001b[0m\u001b[1;33m\u001b[0m\u001b[0m\n\u001b[0m\u001b[0;32m    312\u001b[0m \u001b[1;33m\u001b[0m\u001b[0m\n\u001b[0;32m    313\u001b[0m         \u001b[1;32mreturn\u001b[0m \u001b[0mwrapper\u001b[0m\u001b[1;33m\u001b[0m\u001b[1;33m\u001b[0m\u001b[0m\n",
      "\u001b[1;32mC:\\ProgramData\\Anaconda3\\lib\\site-packages\\pandas\\io\\parsers\\readers.py\u001b[0m in \u001b[0;36mread_csv\u001b[1;34m(filepath_or_buffer, sep, delimiter, header, names, index_col, usecols, squeeze, prefix, mangle_dupe_cols, dtype, engine, converters, true_values, false_values, skipinitialspace, skiprows, skipfooter, nrows, na_values, keep_default_na, na_filter, verbose, skip_blank_lines, parse_dates, infer_datetime_format, keep_date_col, date_parser, dayfirst, cache_dates, iterator, chunksize, compression, thousands, decimal, lineterminator, quotechar, quoting, doublequote, escapechar, comment, encoding, encoding_errors, dialect, error_bad_lines, warn_bad_lines, on_bad_lines, delim_whitespace, low_memory, memory_map, float_precision, storage_options)\u001b[0m\n\u001b[0;32m    676\u001b[0m     \u001b[0mkwds\u001b[0m\u001b[1;33m.\u001b[0m\u001b[0mupdate\u001b[0m\u001b[1;33m(\u001b[0m\u001b[0mkwds_defaults\u001b[0m\u001b[1;33m)\u001b[0m\u001b[1;33m\u001b[0m\u001b[1;33m\u001b[0m\u001b[0m\n\u001b[0;32m    677\u001b[0m \u001b[1;33m\u001b[0m\u001b[0m\n\u001b[1;32m--> 678\u001b[1;33m     \u001b[1;32mreturn\u001b[0m \u001b[0m_read\u001b[0m\u001b[1;33m(\u001b[0m\u001b[0mfilepath_or_buffer\u001b[0m\u001b[1;33m,\u001b[0m \u001b[0mkwds\u001b[0m\u001b[1;33m)\u001b[0m\u001b[1;33m\u001b[0m\u001b[1;33m\u001b[0m\u001b[0m\n\u001b[0m\u001b[0;32m    679\u001b[0m \u001b[1;33m\u001b[0m\u001b[0m\n\u001b[0;32m    680\u001b[0m \u001b[1;33m\u001b[0m\u001b[0m\n",
      "\u001b[1;32mC:\\ProgramData\\Anaconda3\\lib\\site-packages\\pandas\\io\\parsers\\readers.py\u001b[0m in \u001b[0;36m_read\u001b[1;34m(filepath_or_buffer, kwds)\u001b[0m\n\u001b[0;32m    573\u001b[0m \u001b[1;33m\u001b[0m\u001b[0m\n\u001b[0;32m    574\u001b[0m     \u001b[1;31m# Create the parser.\u001b[0m\u001b[1;33m\u001b[0m\u001b[1;33m\u001b[0m\u001b[0m\n\u001b[1;32m--> 575\u001b[1;33m     \u001b[0mparser\u001b[0m \u001b[1;33m=\u001b[0m \u001b[0mTextFileReader\u001b[0m\u001b[1;33m(\u001b[0m\u001b[0mfilepath_or_buffer\u001b[0m\u001b[1;33m,\u001b[0m \u001b[1;33m**\u001b[0m\u001b[0mkwds\u001b[0m\u001b[1;33m)\u001b[0m\u001b[1;33m\u001b[0m\u001b[1;33m\u001b[0m\u001b[0m\n\u001b[0m\u001b[0;32m    576\u001b[0m \u001b[1;33m\u001b[0m\u001b[0m\n\u001b[0;32m    577\u001b[0m     \u001b[1;32mif\u001b[0m \u001b[0mchunksize\u001b[0m \u001b[1;32mor\u001b[0m \u001b[0miterator\u001b[0m\u001b[1;33m:\u001b[0m\u001b[1;33m\u001b[0m\u001b[1;33m\u001b[0m\u001b[0m\n",
      "\u001b[1;32mC:\\ProgramData\\Anaconda3\\lib\\site-packages\\pandas\\io\\parsers\\readers.py\u001b[0m in \u001b[0;36m__init__\u001b[1;34m(self, f, engine, **kwds)\u001b[0m\n\u001b[0;32m    930\u001b[0m \u001b[1;33m\u001b[0m\u001b[0m\n\u001b[0;32m    931\u001b[0m         \u001b[0mself\u001b[0m\u001b[1;33m.\u001b[0m\u001b[0mhandles\u001b[0m\u001b[1;33m:\u001b[0m \u001b[0mIOHandles\u001b[0m \u001b[1;33m|\u001b[0m \u001b[1;32mNone\u001b[0m \u001b[1;33m=\u001b[0m \u001b[1;32mNone\u001b[0m\u001b[1;33m\u001b[0m\u001b[1;33m\u001b[0m\u001b[0m\n\u001b[1;32m--> 932\u001b[1;33m         \u001b[0mself\u001b[0m\u001b[1;33m.\u001b[0m\u001b[0m_engine\u001b[0m \u001b[1;33m=\u001b[0m \u001b[0mself\u001b[0m\u001b[1;33m.\u001b[0m\u001b[0m_make_engine\u001b[0m\u001b[1;33m(\u001b[0m\u001b[0mf\u001b[0m\u001b[1;33m,\u001b[0m \u001b[0mself\u001b[0m\u001b[1;33m.\u001b[0m\u001b[0mengine\u001b[0m\u001b[1;33m)\u001b[0m\u001b[1;33m\u001b[0m\u001b[1;33m\u001b[0m\u001b[0m\n\u001b[0m\u001b[0;32m    933\u001b[0m \u001b[1;33m\u001b[0m\u001b[0m\n\u001b[0;32m    934\u001b[0m     \u001b[1;32mdef\u001b[0m \u001b[0mclose\u001b[0m\u001b[1;33m(\u001b[0m\u001b[0mself\u001b[0m\u001b[1;33m)\u001b[0m\u001b[1;33m:\u001b[0m\u001b[1;33m\u001b[0m\u001b[1;33m\u001b[0m\u001b[0m\n",
      "\u001b[1;32mC:\\ProgramData\\Anaconda3\\lib\\site-packages\\pandas\\io\\parsers\\readers.py\u001b[0m in \u001b[0;36m_make_engine\u001b[1;34m(self, f, engine)\u001b[0m\n\u001b[0;32m   1214\u001b[0m             \u001b[1;31m# \"Union[str, PathLike[str], ReadCsvBuffer[bytes], ReadCsvBuffer[str]]\"\u001b[0m\u001b[1;33m\u001b[0m\u001b[1;33m\u001b[0m\u001b[0m\n\u001b[0;32m   1215\u001b[0m             \u001b[1;31m# , \"str\", \"bool\", \"Any\", \"Any\", \"Any\", \"Any\", \"Any\"\u001b[0m\u001b[1;33m\u001b[0m\u001b[1;33m\u001b[0m\u001b[0m\n\u001b[1;32m-> 1216\u001b[1;33m             self.handles = get_handle(  # type: ignore[call-overload]\n\u001b[0m\u001b[0;32m   1217\u001b[0m                 \u001b[0mf\u001b[0m\u001b[1;33m,\u001b[0m\u001b[1;33m\u001b[0m\u001b[1;33m\u001b[0m\u001b[0m\n\u001b[0;32m   1218\u001b[0m                 \u001b[0mmode\u001b[0m\u001b[1;33m,\u001b[0m\u001b[1;33m\u001b[0m\u001b[1;33m\u001b[0m\u001b[0m\n",
      "\u001b[1;32mC:\\ProgramData\\Anaconda3\\lib\\site-packages\\pandas\\io\\common.py\u001b[0m in \u001b[0;36mget_handle\u001b[1;34m(path_or_buf, mode, encoding, compression, memory_map, is_text, errors, storage_options)\u001b[0m\n\u001b[0;32m    784\u001b[0m         \u001b[1;32mif\u001b[0m \u001b[0mioargs\u001b[0m\u001b[1;33m.\u001b[0m\u001b[0mencoding\u001b[0m \u001b[1;32mand\u001b[0m \u001b[1;34m\"b\"\u001b[0m \u001b[1;32mnot\u001b[0m \u001b[1;32min\u001b[0m \u001b[0mioargs\u001b[0m\u001b[1;33m.\u001b[0m\u001b[0mmode\u001b[0m\u001b[1;33m:\u001b[0m\u001b[1;33m\u001b[0m\u001b[1;33m\u001b[0m\u001b[0m\n\u001b[0;32m    785\u001b[0m             \u001b[1;31m# Encoding\u001b[0m\u001b[1;33m\u001b[0m\u001b[1;33m\u001b[0m\u001b[0m\n\u001b[1;32m--> 786\u001b[1;33m             handle = open(\n\u001b[0m\u001b[0;32m    787\u001b[0m                 \u001b[0mhandle\u001b[0m\u001b[1;33m,\u001b[0m\u001b[1;33m\u001b[0m\u001b[1;33m\u001b[0m\u001b[0m\n\u001b[0;32m    788\u001b[0m                 \u001b[0mioargs\u001b[0m\u001b[1;33m.\u001b[0m\u001b[0mmode\u001b[0m\u001b[1;33m,\u001b[0m\u001b[1;33m\u001b[0m\u001b[1;33m\u001b[0m\u001b[0m\n",
      "\u001b[1;31mFileNotFoundError\u001b[0m: [Errno 2] No such file or directory: '/Users/royzalta/Downloads/archive/Books Data with Category Language and Summary/Preprocessed_data.csv'"
     ]
    }
   ],
   "source": [
    "df = pd.read_csv(r'/Users/royzalta/Downloads/archive/Books Data with Category Language and Summary/Preprocessed_data.csv')"
   ]
  },
  {
   "cell_type": "code",
<<<<<<< HEAD
   "execution_count": null,
=======
   "execution_count": 5,
>>>>>>> c61e54d7106168277265c6c0cd64940cf08e25a4
   "id": "210bda7e",
   "metadata": {},
   "outputs": [],
   "source": [
    "df = pd.read_csv(r\"C:\\Users\\yotam\\Desktop\\naya\\Preprocessed_data.csv\")"
   ]
  },
  {
   "cell_type": "code",
   "execution_count": null,
   "id": "b91ea0e4",
   "metadata": {},
<<<<<<< HEAD
   "outputs": [],
   "source": [
    "df.head()"
   ]
  },
  {
   "cell_type": "code",
   "execution_count": null,
=======
   "outputs": [
    {
     "data": {
      "text/html": [
       "<div>\n",
       "<style scoped>\n",
       "    .dataframe tbody tr th:only-of-type {\n",
       "        vertical-align: middle;\n",
       "    }\n",
       "\n",
       "    .dataframe tbody tr th {\n",
       "        vertical-align: top;\n",
       "    }\n",
       "\n",
       "    .dataframe thead th {\n",
       "        text-align: right;\n",
       "    }\n",
       "</style>\n",
       "<table border=\"1\" class=\"dataframe\">\n",
       "  <thead>\n",
       "    <tr style=\"text-align: right;\">\n",
       "      <th></th>\n",
       "      <th>Unnamed: 0</th>\n",
       "      <th>user_id</th>\n",
       "      <th>location</th>\n",
       "      <th>age</th>\n",
       "      <th>isbn</th>\n",
       "      <th>rating</th>\n",
       "      <th>book_title</th>\n",
       "      <th>book_author</th>\n",
       "      <th>year_of_publication</th>\n",
       "      <th>publisher</th>\n",
       "      <th>img_s</th>\n",
       "      <th>img_m</th>\n",
       "      <th>img_l</th>\n",
       "      <th>Summary</th>\n",
       "      <th>Language</th>\n",
       "      <th>Category</th>\n",
       "      <th>city</th>\n",
       "      <th>state</th>\n",
       "      <th>country</th>\n",
       "      <th>isbn_num</th>\n",
       "    </tr>\n",
       "  </thead>\n",
       "  <tbody>\n",
       "    <tr>\n",
       "      <th>0</th>\n",
       "      <td>0</td>\n",
       "      <td>2</td>\n",
       "      <td>stockton, california, usa</td>\n",
       "      <td>18.0000</td>\n",
       "      <td>0195153448</td>\n",
       "      <td>0</td>\n",
       "      <td>Classical Mythology</td>\n",
       "      <td>Mark P. O. Morford</td>\n",
       "      <td>2002.0</td>\n",
       "      <td>Oxford University Press</td>\n",
       "      <td>http://images.amazon.com/images/P/0195153448.0...</td>\n",
       "      <td>http://images.amazon.com/images/P/0195153448.0...</td>\n",
       "      <td>http://images.amazon.com/images/P/0195153448.0...</td>\n",
       "      <td>Provides an introduction to classical myths pl...</td>\n",
       "      <td>en</td>\n",
       "      <td>['Social Science']</td>\n",
       "      <td>stockton</td>\n",
       "      <td>california</td>\n",
       "      <td>usa</td>\n",
       "      <td>0</td>\n",
       "    </tr>\n",
       "    <tr>\n",
       "      <th>1</th>\n",
       "      <td>1</td>\n",
       "      <td>8</td>\n",
       "      <td>timmins, ontario, canada</td>\n",
       "      <td>34.7439</td>\n",
       "      <td>0002005018</td>\n",
       "      <td>5</td>\n",
       "      <td>Clara Callan</td>\n",
       "      <td>Richard Bruce Wright</td>\n",
       "      <td>2001.0</td>\n",
       "      <td>HarperFlamingo Canada</td>\n",
       "      <td>http://images.amazon.com/images/P/0002005018.0...</td>\n",
       "      <td>http://images.amazon.com/images/P/0002005018.0...</td>\n",
       "      <td>http://images.amazon.com/images/P/0002005018.0...</td>\n",
       "      <td>In a small town in Canada, Clara Callan reluct...</td>\n",
       "      <td>en</td>\n",
       "      <td>['Actresses']</td>\n",
       "      <td>timmins</td>\n",
       "      <td>ontario</td>\n",
       "      <td>canada</td>\n",
       "      <td>1</td>\n",
       "    </tr>\n",
       "    <tr>\n",
       "      <th>2</th>\n",
       "      <td>2</td>\n",
       "      <td>11400</td>\n",
       "      <td>ottawa, ontario, canada</td>\n",
       "      <td>49.0000</td>\n",
       "      <td>0002005018</td>\n",
       "      <td>0</td>\n",
       "      <td>Clara Callan</td>\n",
       "      <td>Richard Bruce Wright</td>\n",
       "      <td>2001.0</td>\n",
       "      <td>HarperFlamingo Canada</td>\n",
       "      <td>http://images.amazon.com/images/P/0002005018.0...</td>\n",
       "      <td>http://images.amazon.com/images/P/0002005018.0...</td>\n",
       "      <td>http://images.amazon.com/images/P/0002005018.0...</td>\n",
       "      <td>In a small town in Canada, Clara Callan reluct...</td>\n",
       "      <td>en</td>\n",
       "      <td>['Actresses']</td>\n",
       "      <td>ottawa</td>\n",
       "      <td>ontario</td>\n",
       "      <td>canada</td>\n",
       "      <td>1</td>\n",
       "    </tr>\n",
       "    <tr>\n",
       "      <th>3</th>\n",
       "      <td>3</td>\n",
       "      <td>11676</td>\n",
       "      <td>n/a, n/a, n/a</td>\n",
       "      <td>34.7439</td>\n",
       "      <td>0002005018</td>\n",
       "      <td>8</td>\n",
       "      <td>Clara Callan</td>\n",
       "      <td>Richard Bruce Wright</td>\n",
       "      <td>2001.0</td>\n",
       "      <td>HarperFlamingo Canada</td>\n",
       "      <td>http://images.amazon.com/images/P/0002005018.0...</td>\n",
       "      <td>http://images.amazon.com/images/P/0002005018.0...</td>\n",
       "      <td>http://images.amazon.com/images/P/0002005018.0...</td>\n",
       "      <td>In a small town in Canada, Clara Callan reluct...</td>\n",
       "      <td>en</td>\n",
       "      <td>['Actresses']</td>\n",
       "      <td>NaN</td>\n",
       "      <td>NaN</td>\n",
       "      <td>NaN</td>\n",
       "      <td>1</td>\n",
       "    </tr>\n",
       "    <tr>\n",
       "      <th>4</th>\n",
       "      <td>4</td>\n",
       "      <td>41385</td>\n",
       "      <td>sudbury, ontario, canada</td>\n",
       "      <td>34.7439</td>\n",
       "      <td>0002005018</td>\n",
       "      <td>0</td>\n",
       "      <td>Clara Callan</td>\n",
       "      <td>Richard Bruce Wright</td>\n",
       "      <td>2001.0</td>\n",
       "      <td>HarperFlamingo Canada</td>\n",
       "      <td>http://images.amazon.com/images/P/0002005018.0...</td>\n",
       "      <td>http://images.amazon.com/images/P/0002005018.0...</td>\n",
       "      <td>http://images.amazon.com/images/P/0002005018.0...</td>\n",
       "      <td>In a small town in Canada, Clara Callan reluct...</td>\n",
       "      <td>en</td>\n",
       "      <td>['Actresses']</td>\n",
       "      <td>sudbury</td>\n",
       "      <td>ontario</td>\n",
       "      <td>canada</td>\n",
       "      <td>1</td>\n",
       "    </tr>\n",
       "  </tbody>\n",
       "</table>\n",
       "</div>"
      ],
      "text/plain": [
       "   Unnamed: 0  user_id                   location      age        isbn  \\\n",
       "0           0        2  stockton, california, usa  18.0000  0195153448   \n",
       "1           1        8   timmins, ontario, canada  34.7439  0002005018   \n",
       "2           2    11400    ottawa, ontario, canada  49.0000  0002005018   \n",
       "3           3    11676              n/a, n/a, n/a  34.7439  0002005018   \n",
       "4           4    41385   sudbury, ontario, canada  34.7439  0002005018   \n",
       "\n",
       "   rating           book_title           book_author  year_of_publication  \\\n",
       "0       0  Classical Mythology    Mark P. O. Morford               2002.0   \n",
       "1       5         Clara Callan  Richard Bruce Wright               2001.0   \n",
       "2       0         Clara Callan  Richard Bruce Wright               2001.0   \n",
       "3       8         Clara Callan  Richard Bruce Wright               2001.0   \n",
       "4       0         Clara Callan  Richard Bruce Wright               2001.0   \n",
       "\n",
       "                 publisher                                              img_s  \\\n",
       "0  Oxford University Press  http://images.amazon.com/images/P/0195153448.0...   \n",
       "1    HarperFlamingo Canada  http://images.amazon.com/images/P/0002005018.0...   \n",
       "2    HarperFlamingo Canada  http://images.amazon.com/images/P/0002005018.0...   \n",
       "3    HarperFlamingo Canada  http://images.amazon.com/images/P/0002005018.0...   \n",
       "4    HarperFlamingo Canada  http://images.amazon.com/images/P/0002005018.0...   \n",
       "\n",
       "                                               img_m  \\\n",
       "0  http://images.amazon.com/images/P/0195153448.0...   \n",
       "1  http://images.amazon.com/images/P/0002005018.0...   \n",
       "2  http://images.amazon.com/images/P/0002005018.0...   \n",
       "3  http://images.amazon.com/images/P/0002005018.0...   \n",
       "4  http://images.amazon.com/images/P/0002005018.0...   \n",
       "\n",
       "                                               img_l  \\\n",
       "0  http://images.amazon.com/images/P/0195153448.0...   \n",
       "1  http://images.amazon.com/images/P/0002005018.0...   \n",
       "2  http://images.amazon.com/images/P/0002005018.0...   \n",
       "3  http://images.amazon.com/images/P/0002005018.0...   \n",
       "4  http://images.amazon.com/images/P/0002005018.0...   \n",
       "\n",
       "                                             Summary Language  \\\n",
       "0  Provides an introduction to classical myths pl...       en   \n",
       "1  In a small town in Canada, Clara Callan reluct...       en   \n",
       "2  In a small town in Canada, Clara Callan reluct...       en   \n",
       "3  In a small town in Canada, Clara Callan reluct...       en   \n",
       "4  In a small town in Canada, Clara Callan reluct...       en   \n",
       "\n",
       "             Category      city       state country  isbn_num  \n",
       "0  ['Social Science']  stockton  california     usa         0  \n",
       "1       ['Actresses']   timmins     ontario  canada         1  \n",
       "2       ['Actresses']    ottawa     ontario  canada         1  \n",
       "3       ['Actresses']       NaN         NaN     NaN         1  \n",
       "4       ['Actresses']   sudbury     ontario  canada         1  "
      ]
     },
     "execution_count": 15,
     "metadata": {},
     "output_type": "execute_result"
    }
   ],
   "source": []
  },
  {
   "cell_type": "code",
   "execution_count": 6,
>>>>>>> c61e54d7106168277265c6c0cd64940cf08e25a4
   "id": "f17e2622",
   "metadata": {},
   "outputs": [],
   "source": [
    "df = df[df['rating']!=0]\n",
    "df_isbn = df['isbn']\n",
    "num_dict = {}\n",
    "for i,j in enumerate(df_isbn.unique()):\n",
    "    num_dict[j]=i\n",
    "df['isbn_num'] = df['isbn'].apply(lambda txt: num_dict[txt])"
   ]
  },
  {
   "cell_type": "code",
<<<<<<< HEAD
   "execution_count": null,
=======
   "execution_count": 7,
>>>>>>> c61e54d7106168277265c6c0cd64940cf08e25a4
   "id": "ec398389",
   "metadata": {},
   "outputs": [],
   "source": [
    "#split to train andtest while keeping each user in the train and test data\n",
    "train_users, test_users = train_test_split(df, test_size = 0.2 , random_state= 42)"
   ]
  },
  {
   "cell_type": "code",
<<<<<<< HEAD
   "execution_count": null,
=======
   "execution_count": 8,
>>>>>>> c61e54d7106168277265c6c0cd64940cf08e25a4
   "id": "75dd7251",
   "metadata": {},
   "outputs": [],
   "source": [
    "x_train = train_users.drop(columns=['rating'])\n",
    "y_train = train_users[\"rating\"]\n",
    "\n",
    "x_test = test_users.drop(columns=['rating'])\n",
    "y_test = test_users[\"rating\"]"
   ]
  },
  {
   "cell_type": "markdown",
   "id": "a5f0e259",
   "metadata": {},
   "source": [
    "## Implemation of TenserFlow"
   ]
  },
  {
   "cell_type": "code",
<<<<<<< HEAD
   "execution_count": null,
=======
   "execution_count": 9,
>>>>>>> c61e54d7106168277265c6c0cd64940cf08e25a4
   "id": "fa20c4a5",
   "metadata": {},
   "outputs": [],
   "source": [
    "all_users = train_users[\"user_id\"].unique()\n",
    "all_books = train_users[\"isbn_num\"].unique()"
   ]
  },
  {
   "cell_type": "code",
<<<<<<< HEAD
   "execution_count": null,
=======
   "execution_count": 10,
>>>>>>> c61e54d7106168277265c6c0cd64940cf08e25a4
   "id": "94c5b659",
   "metadata": {},
   "outputs": [],
   "source": [
    "import tensorflow as tf\n",
    "from tensorflow.keras.utils import plot_model"
   ]
  },
  {
   "cell_type": "code",
   "execution_count": null,
   "id": "e662506b",
   "metadata": {},
   "outputs": [],
   "source": [
    "# user pipeline\n",
    "user_input = tf.keras.layers.Input(shape=(1,), name=\"user\")\n",
    "user_as_integer = tf.keras.layers.IntegerLookup(vocabulary=all_users)(user_input)\n",
    "user_embedding = tf.keras.layers.Embedding(input_dim=len(all_users)+1, output_dim=32)(user_as_integer)"
   ]
  },
  {
   "cell_type": "code",
   "execution_count": null,
   "id": "39b5af7a",
   "metadata": {},
   "outputs": [],
   "source": [
    "# book pipeline\n",
    "book_input = tf.keras.layers.Input(shape=(1,), name=\"book\")\n",
    "book_as_integer = tf.keras.layers.IntegerLookup(vocabulary=all_books)(book_input)\n",
    "book_embedding = tf.keras.layers.Embedding(input_dim=len(all_books)+1, output_dim=32)(book_as_integer)"
   ]
  },
  {
   "cell_type": "code",
   "execution_count": null,
   "id": "c1e79ca0",
   "metadata": {},
   "outputs": [],
   "source": [
    "# dot product\n",
    "dot = tf.keras.layers.Dot(axes=2)([user_embedding, book_embedding])\n",
    "flatten = tf.keras.layers.Flatten()(dot)"
   ]
  },
  {
   "cell_type": "code",
   "execution_count": null,
   "id": "2041667f",
   "metadata": {},
   "outputs": [],
   "source": [
    "# model input/output definition\n",
    "model = tf.keras.Model(inputs=[user_input, book_input], outputs=flatten)"
   ]
  },
  {
   "cell_type": "code",
   "execution_count": null,
   "id": "19ecfd6a",
   "metadata": {},
   "outputs": [],
   "source": [
    "model.compile(loss=\"mse\", metrics=[tf.keras.metrics.MeanAbsoluteError()])"
   ]
  },
  {
   "cell_type": "code",
   "execution_count": null,
   "id": "ba39d123",
   "metadata": {},
   "outputs": [],
   "source": [
    "## this model is quite bad with an avg of 3 starts in rating deviation\n",
    "# model.fit(\n",
    "#     x={\n",
    "#         \"user\": x_train[\"user_id\"],\n",
    "#         \"book\": x_train[\"isbn_num\"]\n",
    "#     },\n",
    "#     y=y_train.values,\n",
    "#     batch_size=256,\n",
    "#     epochs=100,\n",
    "#     validation_split=0.1, # for early stopping\n",
    "#     callbacks=[\n",
    "#         tf.keras.callbacks.EarlyStopping(patience=1, restore_best_weights=True)\n",
    "#     ],\n",
    "# )\n"
   ]
  },
  {
   "cell_type": "code",
   "execution_count": null,
   "id": "dacc95a2",
   "metadata": {},
   "outputs": [],
   "source": []
  },
  {
   "cell_type": "markdown",
   "id": "baf0ed77",
   "metadata": {},
   "source": [
    "# full pipline"
   ]
  },
  {
   "cell_type": "code",
<<<<<<< HEAD
   "execution_count": null,
=======
   "execution_count": 17,
>>>>>>> c61e54d7106168277265c6c0cd64940cf08e25a4
   "id": "e2a4b50d",
   "metadata": {},
   "outputs": [],
   "source": [
    "user_input = tf.keras.layers.Input(shape=(1,), name=\"user\")\n",
    "user_as_integer = tf.keras.layers.IntegerLookup(vocabulary=all_users)(user_input)\n",
    "user_embedding = tf.keras.layers.Embedding(input_dim=len(all_users) + 1, output_dim=32)(user_as_integer)\n",
    "user_bias = tf.keras.layers.Embedding(input_dim=len(all_users) + 1, output_dim=1)(user_as_integer)\n",
    "\n",
    "book_input = tf.keras.layers.Input(shape=(1,), name=\"book\")\n",
    "book_as_integer = tf.keras.layers.IntegerLookup(vocabulary=all_books)(book_input)\n",
    "book_embedding = tf.keras.layers.Embedding(input_dim=len(all_books) + 1, output_dim=32)(book_as_integer)\n",
    "book_bias = tf.keras.layers.Embedding(input_dim=len(all_books) + 1, output_dim=1)(book_as_integer)\n",
    "\n",
    "dot = tf.keras.layers.Dot(axes=2)([user_embedding, book_embedding])\n",
    "add = tf.keras.layers.Add()([dot, user_bias, book_bias])\n",
    "flatten = tf.keras.layers.Flatten()(add)\n",
    "squash = tf.keras.layers.Lambda(lambda x: 9 * tf.nn.sigmoid(x) + 1)(flatten)\n",
    "\n",
    "model = tf.keras.Model(inputs=[user_input, book_input], outputs=squash)\n",
    "\n",
    "\n",
    "model.compile(loss=\"mse\", metrics=[tf.keras.metrics.MeanAbsoluteError(),tf.keras.metrics.RootMeanSquaredError()])\n"
   ]
  },
  {
   "cell_type": "code",
<<<<<<< HEAD
   "execution_count": null,
   "id": "1eb7fa2a",
   "metadata": {},
   "outputs": [],
=======
   "execution_count": 14,
   "id": "3b44ad00",
   "metadata": {},
   "outputs": [
    {
     "name": "stdout",
     "output_type": "stream",
     "text": [
      "Model: \"model_1\"\n",
      "__________________________________________________________________________________________________\n",
      " Layer (type)                Output Shape                 Param #   Connected to                  \n",
      "==================================================================================================\n",
      " user (InputLayer)           [(None, 1)]                  0         []                            \n",
      "                                                                                                  \n",
      " book (InputLayer)           [(None, 1)]                  0         []                            \n",
      "                                                                                                  \n",
      " integer_lookup_2 (IntegerL  (None, 1)                    0         ['user[0][0]']                \n",
      " ookup)                                                                                           \n",
      "                                                                                                  \n",
      " integer_lookup_3 (IntegerL  (None, 1)                    0         ['book[0][0]']                \n",
      " ookup)                                                                                           \n",
      "                                                                                                  \n",
      " embedding_4 (Embedding)     (None, 1, 32)                1915520   ['integer_lookup_2[0][0]']    \n",
      "                                                                                                  \n",
      " embedding_6 (Embedding)     (None, 1, 32)                4123936   ['integer_lookup_3[0][0]']    \n",
      "                                                                                                  \n",
      " dot_1 (Dot)                 (None, 1, 1)                 0         ['embedding_4[0][0]',         \n",
      "                                                                     'embedding_6[0][0]']         \n",
      "                                                                                                  \n",
      " embedding_5 (Embedding)     (None, 1, 1)                 59860     ['integer_lookup_2[0][0]']    \n",
      "                                                                                                  \n",
      " embedding_7 (Embedding)     (None, 1, 1)                 128873    ['integer_lookup_3[0][0]']    \n",
      "                                                                                                  \n",
      " add_1 (Add)                 (None, 1, 1)                 0         ['dot_1[0][0]',               \n",
      "                                                                     'embedding_5[0][0]',         \n",
      "                                                                     'embedding_7[0][0]']         \n",
      "                                                                                                  \n",
      " flatten_1 (Flatten)         (None, 1)                    0         ['add_1[0][0]']               \n",
      "                                                                                                  \n",
      " lambda_1 (Lambda)           (None, 1)                    0         ['flatten_1[0][0]']           \n",
      "                                                                                                  \n",
      "==================================================================================================\n",
      "Total params: 6228189 (23.76 MB)\n",
      "Trainable params: 6228189 (23.76 MB)\n",
      "Non-trainable params: 0 (0.00 Byte)\n",
      "__________________________________________________________________________________________________\n"
     ]
    }
   ],
   "source": [
    "model.summary()"
   ]
  },
  {
   "cell_type": "code",
   "execution_count": 18,
   "id": "1eb7fa2a",
   "metadata": {},
   "outputs": [
    {
     "name": "stdout",
     "output_type": "stream",
     "text": [
      "Epoch 1/4\n",
      "1080/1080 [==============================] - 40s 36ms/step - loss: 7.1957 - mean_absolute_error: 2.3196 - root_mean_squared_error: 2.6825 - val_loss: 6.6125 - val_mean_absolute_error: 2.2070 - val_root_mean_squared_error: 2.5715\n",
      "Epoch 2/4\n",
      "1080/1080 [==============================] - 43s 40ms/step - loss: 6.0640 - mean_absolute_error: 2.0932 - root_mean_squared_error: 2.4625 - val_loss: 5.8177 - val_mean_absolute_error: 2.0411 - val_root_mean_squared_error: 2.4120\n",
      "Epoch 3/4\n",
      "1080/1080 [==============================] - 42s 39ms/step - loss: 5.3281 - mean_absolute_error: 1.9330 - root_mean_squared_error: 2.3083 - val_loss: 5.2953 - val_mean_absolute_error: 1.9260 - val_root_mean_squared_error: 2.3011\n",
      "Epoch 4/4\n",
      "1080/1080 [==============================] - 40s 37ms/step - loss: 4.7851 - mean_absolute_error: 1.8064 - root_mean_squared_error: 2.1875 - val_loss: 4.9264 - val_mean_absolute_error: 1.8409 - val_root_mean_squared_error: 2.2195\n"
     ]
    },
    {
     "data": {
      "text/plain": [
       "<keras.src.callbacks.History at 0x205598f6ee0>"
      ]
     },
     "execution_count": 18,
     "metadata": {},
     "output_type": "execute_result"
    }
   ],
>>>>>>> c61e54d7106168277265c6c0cd64940cf08e25a4
   "source": [
    "#  model.fit(\n",
    "#      x={\n",
    "#          \"user\": x_train[\"user_id\"],\n",
    "#          \"book\": x_train[\"isbn_num\"]\n",
    "#      },\n",
    "#      y=y_train.values,\n",
    "#      batch_size=256,\n",
    "#      epochs=4,\n",
    "#      validation_split=0.1, # for early stopping\n",
    "#      callbacks=[\n",
    "#          tf.keras.callbacks.EarlyStopping(patience=1, restore_best_weights=True)\n",
    "#      ],\n",
    "#  )\n"
   ]
  },
  {
   "cell_type": "markdown",
   "id": "24ce078f",
   "metadata": {},
   "source": [
    "add user data"
   ]
  },
  {
   "cell_type": "code",
<<<<<<< HEAD
   "execution_count": null,
=======
   "execution_count": 15,
>>>>>>> c61e54d7106168277265c6c0cd64940cf08e25a4
   "id": "56b6d42f",
   "metadata": {},
   "outputs": [],
   "source": [
    "user_input = tf.keras.layers.Input(shape=(2,), name=\"user\")\n",
    "user_as_integer = tf.keras.layers.IntegerLookup(vocabulary=all_users)(user_input)\n",
    "user_embedding = tf.keras.layers.Embedding(input_dim=len(all_users) + 1, output_dim=32)(user_as_integer)\n",
    "user_bias = tf.keras.layers.Embedding(input_dim=len(all_users) + 1, output_dim=1)(user_as_integer)\n",
    "\n",
    "book_input = tf.keras.layers.Input(shape=(1,), name=\"book\")\n",
    "book_as_integer = tf.keras.layers.IntegerLookup(vocabulary=all_books)(book_input)\n",
    "book_embedding = tf.keras.layers.Embedding(input_dim=len(all_books) + 1, output_dim=32)(book_as_integer)\n",
    "book_bias = tf.keras.layers.Embedding(input_dim=len(all_books) + 1, output_dim=1)(book_as_integer)\n",
    "\n",
    "dot = tf.keras.layers.Dot(axes=2)([user_embedding, book_embedding])\n",
    "add = tf.keras.layers.Add()([dot, user_bias, book_bias])\n",
    "flatten = tf.keras.layers.Flatten()(add)\n",
    "squash = tf.keras.layers.Lambda(lambda x: 9 * tf.nn.sigmoid(x) + 1)(flatten)\n",
    "\n",
    "model = tf.keras.Model(inputs=[user_input, book_input], outputs=squash)\n",
    "\n",
    "\n",
    "model.compile(loss=\"mse\", metrics=[tf.keras.metrics.MeanAbsoluteError(),tf.keras.metrics.RootMeanSquaredError()])\n"
   ]
  },
  {
   "cell_type": "code",
<<<<<<< HEAD
   "execution_count": null,
=======
   "execution_count": 16,
   "id": "4c54b81a",
   "metadata": {},
   "outputs": [
    {
     "name": "stdout",
     "output_type": "stream",
     "text": [
      "Model: \"model_2\"\n",
      "__________________________________________________________________________________________________\n",
      " Layer (type)                Output Shape                 Param #   Connected to                  \n",
      "==================================================================================================\n",
      " user (InputLayer)           [(None, 2)]                  0         []                            \n",
      "                                                                                                  \n",
      " book (InputLayer)           [(None, 1)]                  0         []                            \n",
      "                                                                                                  \n",
      " integer_lookup_4 (IntegerL  (None, 2)                    0         ['user[0][0]']                \n",
      " ookup)                                                                                           \n",
      "                                                                                                  \n",
      " integer_lookup_5 (IntegerL  (None, 1)                    0         ['book[0][0]']                \n",
      " ookup)                                                                                           \n",
      "                                                                                                  \n",
      " embedding_8 (Embedding)     (None, 2, 32)                1915520   ['integer_lookup_4[0][0]']    \n",
      "                                                                                                  \n",
      " embedding_10 (Embedding)    (None, 1, 32)                4123936   ['integer_lookup_5[0][0]']    \n",
      "                                                                                                  \n",
      " dot_2 (Dot)                 (None, 2, 1)                 0         ['embedding_8[0][0]',         \n",
      "                                                                     'embedding_10[0][0]']        \n",
      "                                                                                                  \n",
      " embedding_9 (Embedding)     (None, 2, 1)                 59860     ['integer_lookup_4[0][0]']    \n",
      "                                                                                                  \n",
      " embedding_11 (Embedding)    (None, 1, 1)                 128873    ['integer_lookup_5[0][0]']    \n",
      "                                                                                                  \n",
      " add_2 (Add)                 (None, 2, 1)                 0         ['dot_2[0][0]',               \n",
      "                                                                     'embedding_9[0][0]',         \n",
      "                                                                     'embedding_11[0][0]']        \n",
      "                                                                                                  \n",
      " flatten_2 (Flatten)         (None, 2)                    0         ['add_2[0][0]']               \n",
      "                                                                                                  \n",
      " lambda_2 (Lambda)           (None, 2)                    0         ['flatten_2[0][0]']           \n",
      "                                                                                                  \n",
      "==================================================================================================\n",
      "Total params: 6228189 (23.76 MB)\n",
      "Trainable params: 6228189 (23.76 MB)\n",
      "Non-trainable params: 0 (0.00 Byte)\n",
      "__________________________________________________________________________________________________\n"
     ]
    }
   ],
   "source": [
    "model.summary()"
   ]
  },
  {
   "cell_type": "code",
   "execution_count": 28,
>>>>>>> c61e54d7106168277265c6c0cd64940cf08e25a4
   "id": "752223c4",
   "metadata": {
    "scrolled": true
   },
   "outputs": [],
   "source": [
    " model.fit(\n",
    "     x={\n",
    "         \"user\": x_train[[\"user_id\",'age','']],\n",
    "         \"book\": x_train[\"isbn_num\"]\n",
    "     },\n",
    "     y=y_train.values,\n",
    "     batch_size=256,\n",
    "     epochs=5,\n",
    "     validation_split=0.1, # for early stopping\n",
    "     callbacks=[\n",
    "         tf.keras.callbacks.EarlyStopping(patience=2, restore_best_weights=True)\n",
    "     ],\n",
    " )\n"
   ]
  },
  {
   "cell_type": "markdown",
   "id": "a792dd09",
   "metadata": {},
   "source": [
    " ### model with more inputs:"
   ]
  },
  {
   "cell_type": "code",
   "execution_count": 30,
   "id": "183dc69d",
   "metadata": {},
   "outputs": [],
   "source": [
    "user_input = tf.keras.layers.Input(shape=(1,), name=\"user\")\n",
    "user_as_integer = tf.keras.layers.IntegerLookup(vocabulary=all_users)(user_input)\n",
    "user_embedding = tf.keras.layers.Embedding(input_dim=len(all_users) + 1, output_dim=32)(user_as_integer)\n",
    "user_bias = tf.keras.layers.Embedding(input_dim=len(all_users) + 1, output_dim=1)(user_as_integer)\n",
    "\n",
    "book_input = tf.keras.layers.Input(shape=(1,), name=\"book\")\n",
    "book_as_integer = tf.keras.layers.IntegerLookup(vocabulary=all_books)(book_input)\n",
    "book_embedding = tf.keras.layers.Embedding(input_dim=len(all_books) + 1, output_dim=32)(book_as_integer)\n",
    "book_bias = tf.keras.layers.Embedding(input_dim=len(all_books) + 1, output_dim=1)(book_as_integer)\n",
    "\n",
    "feature_input = tf.keras.layers.Input(shape=(2,), name=\"user_book_data\")\n",
    "feature = tf.keras.layers.Dense(5, name=\"add_some_feature\")(feature_input)\n",
    "\n",
    "book_input2 = tf.keras.layers.Input(shape=(1,), name=\"book2\")\n",
    "book_as_integer2 = tf.keras.layers.IntegerLookup(vocabulary=all_books)(book_input2)\n",
    "book_embedding2 = tf.keras.layers.Embedding(input_dim=len(all_books) + 1, output_dim=32)(book_as_integer2)\n",
    "\n",
    "\n",
    "dot = tf.keras.layers.Dot(axes=2)([user_embedding, book_embedding,book_embedding2])\n",
    "add = tf.keras.layers.Add()([dot, user_bias, book_bias])\n",
    "flatten = tf.keras.layers.Flatten()(add)\n",
    "con = tf.keras.layers.concatenate([flatten,feature])\n",
    "\n",
    "squash = tf.keras.layers.Lambda(lambda x: 9 * tf.nn.sigmoid(x) + 1)(con)\n",
    "\n",
    "model = tf.keras.Model(inputs=[user_input, book_input,feature_input], outputs=squash)\n",
    "\n",
    "\n",
    "model.compile(loss=\"mse\", metrics=[tf.keras.metrics.MeanAbsoluteError(),tf.keras.metrics.RootMeanSquaredError()])\n"
   ]
  },
  {
   "cell_type": "code",
   "execution_count": 31,
   "id": "7d2ae4d5",
   "metadata": {},
   "outputs": [
    {
     "name": "stdout",
     "output_type": "stream",
     "text": [
      "Model: \"model_6\"\n",
      "__________________________________________________________________________________________________\n",
      " Layer (type)                Output Shape                 Param #   Connected to                  \n",
      "==================================================================================================\n",
      " user (InputLayer)           [(None, 1)]                  0         []                            \n",
      "                                                                                                  \n",
      " book (InputLayer)           [(None, 1)]                  0         []                            \n",
      "                                                                                                  \n",
      " integer_lookup_18 (Integer  (None, 1)                    0         ['user[0][0]']                \n",
      " Lookup)                                                                                          \n",
      "                                                                                                  \n",
      " integer_lookup_19 (Integer  (None, 1)                    0         ['book[0][0]']                \n",
      " Lookup)                                                                                          \n",
      "                                                                                                  \n",
      " embedding_36 (Embedding)    (None, 1, 32)                1915520   ['integer_lookup_18[0][0]']   \n",
      "                                                                                                  \n",
      " embedding_38 (Embedding)    (None, 1, 32)                4123936   ['integer_lookup_19[0][0]']   \n",
      "                                                                                                  \n",
      " dot_9 (Dot)                 (None, 1, 1)                 0         ['embedding_36[0][0]',        \n",
      "                                                                     'embedding_38[0][0]']        \n",
      "                                                                                                  \n",
      " embedding_37 (Embedding)    (None, 1, 1)                 59860     ['integer_lookup_18[0][0]']   \n",
      "                                                                                                  \n",
      " embedding_39 (Embedding)    (None, 1, 1)                 128873    ['integer_lookup_19[0][0]']   \n",
      "                                                                                                  \n",
      " add_9 (Add)                 (None, 1, 1)                 0         ['dot_9[0][0]',               \n",
      "                                                                     'embedding_37[0][0]',        \n",
      "                                                                     'embedding_39[0][0]']        \n",
      "                                                                                                  \n",
      " user_book_data (InputLayer  [(None, 2)]                  0         []                            \n",
      " )                                                                                                \n",
      "                                                                                                  \n",
      " flatten_7 (Flatten)         (None, 1)                    0         ['add_9[0][0]']               \n",
      "                                                                                                  \n",
      " add_some_feature (Dense)    (None, 5)                    15        ['user_book_data[0][0]']      \n",
      "                                                                                                  \n",
      " concatenate_4 (Concatenate  (None, 6)                    0         ['flatten_7[0][0]',           \n",
      " )                                                                   'add_some_feature[0][0]']    \n",
      "                                                                                                  \n",
      " lambda_7 (Lambda)           (None, 6)                    0         ['concatenate_4[0][0]']       \n",
      "                                                                                                  \n",
      "==================================================================================================\n",
      "Total params: 6228204 (23.76 MB)\n",
      "Trainable params: 6228204 (23.76 MB)\n",
      "Non-trainable params: 0 (0.00 Byte)\n",
      "__________________________________________________________________________________________________\n"
     ]
    }
   ],
   "source": [
    "model.summary()"
   ]
  },
  {
   "cell_type": "code",
   "execution_count": 32,
   "id": "5613d450",
   "metadata": {},
   "outputs": [
    {
     "name": "stdout",
     "output_type": "stream",
     "text": [
      "Epoch 1/5\n",
      "1080/1080 [==============================] - 40s 37ms/step - loss: 21.4861 - mean_absolute_error: 3.7821 - root_mean_squared_error: 4.6353 - val_loss: 21.3847 - val_mean_absolute_error: 3.7614 - val_root_mean_squared_error: 4.6244\n",
      "Epoch 2/5\n",
      "1080/1080 [==============================] - 33s 30ms/step - loss: 21.3023 - mean_absolute_error: 3.7455 - root_mean_squared_error: 4.6154 - val_loss: 21.2528 - val_mean_absolute_error: 3.7338 - val_root_mean_squared_error: 4.6101\n",
      "Epoch 3/5\n",
      "1080/1080 [==============================] - 35s 32ms/step - loss: 21.1866 - mean_absolute_error: 3.7205 - root_mean_squared_error: 4.6029 - val_loss: 21.1662 - val_mean_absolute_error: 3.7147 - val_root_mean_squared_error: 4.6007\n",
      "Epoch 4/5\n",
      "1080/1080 [==============================] - 35s 32ms/step - loss: 21.1061 - mean_absolute_error: 3.7021 - root_mean_squared_error: 4.5941 - val_loss: 21.1048 - val_mean_absolute_error: 3.7005 - val_root_mean_squared_error: 4.5940\n",
      "Epoch 5/5\n",
      "1080/1080 [==============================] - 34s 32ms/step - loss: 21.0461 - mean_absolute_error: 3.6878 - root_mean_squared_error: 4.5876 - val_loss: 21.0593 - val_mean_absolute_error: 3.6895 - val_root_mean_squared_error: 4.5890\n"
     ]
    },
    {
     "data": {
      "text/plain": [
       "<keras.src.callbacks.History at 0x20555614220>"
      ]
     },
     "execution_count": 32,
     "metadata": {},
     "output_type": "execute_result"
    }
   ],
   "source": [
    " model.fit(\n",
    "     x={\n",
    "         \"user\": x_train[\"user_id\"],\n",
    "         \"book\": x_train[\"isbn_num\"],\n",
    "         \"user_book_data\":x_train[['age','year_of_publication']]\n",
    "     },\n",
    "     y=y_train.values,\n",
    "     batch_size=256,\n",
    "     epochs=5,\n",
    "     validation_split=0.1, # for early stopping\n",
    "     callbacks=[\n",
    "         tf.keras.callbacks.EarlyStopping(patience=2, restore_best_weights=True)\n",
    "     ],\n",
    " )\n"
   ]
  },
  {
   "cell_type": "code",
   "execution_count": 19,
   "id": "63bcd2eb",
   "metadata": {},
   "outputs": [
    {
     "data": {
      "text/plain": [
       "Index(['Unnamed: 0', 'user_id', 'location', 'age', 'isbn', 'rating',\n",
       "       'book_title', 'book_author', 'year_of_publication', 'publisher',\n",
       "       'img_s', 'img_m', 'img_l', 'Summary', 'Language', 'Category', 'city',\n",
       "       'state', 'country', 'isbn_num'],\n",
       "      dtype='object')"
      ]
     },
     "execution_count": 19,
     "metadata": {},
     "output_type": "execute_result"
    }
   ],
   "source": [
    "df.columns"
   ]
  },
  {
   "cell_type": "code",
   "execution_count": null,
   "id": "375c2104",
   "metadata": {},
   "outputs": [],
   "source": []
  },
  {
   "cell_type": "code",
   "execution_count": null,
   "id": "5287f338",
   "metadata": {},
   "outputs": [],
   "source": [
    "pred = model.predict(x_test)"
   ]
  },
  {
   "cell_type": "code",
   "execution_count": null,
   "id": "93407c6d",
   "metadata": {},
   "outputs": [],
   "source": [
    "pred = model.predict({\n",
    "    \"user\": x_test[[\"user_id\",'age','Language','country']],#.reshape(-1, 1), # fill user 1 in many times\n",
    "    \"book\": x_test[\"isbn_num\"]#.reshape(-1, 1)\n",
    "})\n"
   ]
  },
  {
   "cell_type": "code",
   "execution_count": null,
   "id": "a84936af",
   "metadata": {},
   "outputs": [],
   "source": [
    "model.evaluate({\n",
    "    \"user\": x_test[[\"user_id\",'age','Language','country']],#.reshape(-1, 1), # fill user 1 in many times\n",
    "    \"book\": x_test[\"isbn_num\"]#.reshape(-1, 1)\n",
    "},y_test)"
   ]
  },
  {
   "cell_type": "code",
   "execution_count": null,
   "id": "690bf38b",
   "metadata": {},
   "outputs": [],
   "source": [
    "y_test"
   ]
  },
  {
   "cell_type": "code",
   "execution_count": null,
   "id": "12e03a7a",
   "metadata": {},
   "outputs": [],
   "source": [
    "pred"
   ]
  },
  {
   "cell_type": "code",
   "execution_count": null,
   "id": "a5354b17",
   "metadata": {},
   "outputs": [],
   "source": [
    "import keras\n",
    "import pydot\n",
    "import pydotplus\n",
    "from pydotplus import graphviz\n",
    "from keras.utils import plot_model\n",
    "from keras.utils import model_to_dot\n",
    "keras.utils.pydot = pydot\n",
    "plot_model(model)"
   ]
  }
 ],
 "metadata": {
  "kernelspec": {
   "display_name": "Python 3 (ipykernel)",
   "language": "python",
   "name": "python3"
  },
  "language_info": {
   "codemirror_mode": {
    "name": "ipython",
    "version": 3
   },
   "file_extension": ".py",
   "mimetype": "text/x-python",
   "name": "python",
   "nbconvert_exporter": "python",
   "pygments_lexer": "ipython3",
   "version": "3.11.3"
  }
 },
 "nbformat": 4,
 "nbformat_minor": 5
}
