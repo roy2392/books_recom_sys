{
 "cells": [
  {
   "cell_type": "markdown",
   "metadata": {},
   "source": [
    "# <center>DLRM model</center>"
   ]
  },
  {
   "cell_type": "markdown",
   "metadata": {},
   "source": [
    "### Import depencies"
   ]
  },
  {
   "cell_type": "code",
   "execution_count": 1,
   "metadata": {},
   "outputs": [],
   "source": [
    "from IPython.display import clear_output"
   ]
  },
  {
   "cell_type": "code",
   "execution_count": 2,
   "metadata": {},
   "outputs": [
    {
     "name": "stdout",
     "output_type": "stream",
     "text": [
      "Traceback (most recent call last):\n",
      "  File \"<string>\", line 1, in <module>\n",
      "  File \"/Users/royzalta/anaconda3/lib/python3.11/site-packages/fbgemm_gpu/__init__.py\", line 12, in <module>\n",
      "    torch.ops.load_library(os.path.join(os.path.dirname(__file__), \"fbgemm_gpu_py.so\"))\n",
      "  File \"/Users/royzalta/anaconda3/lib/python3.11/site-packages/torch/_ops.py\", line 643, in load_library\n",
      "    ctypes.CDLL(path)\n",
      "  File \"/Users/royzalta/anaconda3/lib/python3.11/ctypes/__init__.py\", line 376, in __init__\n",
      "    self._handle = _dlopen(self._name, mode)\n",
      "                   ^^^^^^^^^^^^^^^^^^^^^^^^^\n",
      "OSError: dlopen(/Users/royzalta/anaconda3/lib/python3.11/site-packages/fbgemm_gpu/fbgemm_gpu_py.so, 0x0006): tried: '/Users/royzalta/anaconda3/lib/python3.11/site-packages/fbgemm_gpu/fbgemm_gpu_py.so' (not a mach-o file), '/System/Volumes/Preboot/Cryptexes/OS/Users/royzalta/anaconda3/lib/python3.11/site-packages/fbgemm_gpu/fbgemm_gpu_py.so' (no such file), '/Users/royzalta/anaconda3/lib/python3.11/site-packages/fbgemm_gpu/fbgemm_gpu_py.so' (not a mach-o file)\n"
     ]
    }
   ],
   "source": [
    "!python -c \"import fbgemm_gpu\""
   ]
  },
  {
   "cell_type": "code",
   "execution_count": 3,
   "metadata": {},
   "outputs": [
    {
     "ename": "SyntaxError",
     "evalue": "invalid syntax (342062524.py, line 2)",
     "output_type": "error",
     "traceback": [
      "\u001b[0;36m  Cell \u001b[0;32mIn[3], line 2\u001b[0;36m\u001b[0m\n\u001b[0;31m    conda install pytorch cuda -c pytorch -c \"nvidia/label/cuda-11.7.1\"\u001b[0m\n\u001b[0m          ^\u001b[0m\n\u001b[0;31mSyntaxError\u001b[0m\u001b[0;31m:\u001b[0m invalid syntax\n"
     ]
    }
   ],
   "source": [
    "# Release GPU\n",
    "conda install pytorch cuda -c pytorch -c \"nvidia/label/cuda-11.7.1\"\n",
    "!pip install fbgemm-gpu"
   ]
  },
  {
   "cell_type": "code",
   "execution_count": null,
   "metadata": {},
   "outputs": [],
   "source": [
    "!pip install fbgemm-gpu\n",
    "#!pip install fbgemm-gpu-cpu\n",
    "\n",
    "!pip install torch\n",
    "!pip install torchrec\n",
    "#!pip install torchrec-cpu\n",
    "!pip install pyre_extensions\n",
    "\n",
    "#clear_output()"
   ]
  },
  {
   "cell_type": "code",
   "execution_count": null,
   "metadata": {},
   "outputs": [],
   "source": [
    "!pip install --upgrade pip\n",
    "!pip install --upgrade setuptools"
   ]
  },
  {
   "cell_type": "code",
   "execution_count": null,
   "metadata": {},
   "outputs": [],
   "source": [
    "conda update conda"
   ]
  },
  {
   "cell_type": "code",
   "execution_count": null,
   "metadata": {},
   "outputs": [],
   "source": [
    "import pandas as pd\n",
    "import numpy as np\n",
    "import random\n",
    "\n",
    "import torch\n",
    "from torchrec.datasets.utils import Batch\n",
    "from torchrec.sparse.jagged_tensor import KeyedJaggedTensor\n",
    "from sklearn.model_selection import train_test_split\n",
    "#import custom function from book_funcs file\n",
    "from book_funcs import category_cleaner, df_cleaner, category_cleaner,category_compliter, zero_droper, precentage_null"
   ]
  },
  {
   "cell_type": "code",
   "execution_count": null,
   "metadata": {},
   "outputs": [],
   "source": [
    "from batch import *\n",
    "from model import *"
   ]
  },
  {
   "cell_type": "code",
   "execution_count": null,
   "metadata": {},
   "outputs": [],
   "source": [
    "device = torch.device('cuda' if torch.cuda.is_available() else 'cpu')\n",
    "print(f\"Device: '{device}'\")"
   ]
  },
  {
   "cell_type": "markdown",
   "metadata": {},
   "source": [
    "### Import Data"
   ]
  },
  {
   "cell_type": "code",
   "execution_count": null,
   "metadata": {},
   "outputs": [],
   "source": [
    "df = pd.read_csv(r'/Users/royzalta/Downloads/archive/Books Data with Category Language and Summary/Preprocessed_data.csv')"
   ]
  },
  {
   "cell_type": "code",
   "execution_count": null,
   "metadata": {},
   "outputs": [],
   "source": [
    "df['age'] = df['age'].astype(int)\n",
    "df['year_of_publication'] = df['year_of_publication'].astype(int)"
   ]
  },
  {
   "cell_type": "markdown",
   "metadata": {},
   "source": [
    "### train & test split"
   ]
  },
  {
   "cell_type": "code",
   "execution_count": null,
   "metadata": {},
   "outputs": [],
   "source": [
    "train_df, test_df = train_test_split(\n",
    "    df, test_size=0.33, random_state=42)"
   ]
  },
  {
   "cell_type": "markdown",
   "metadata": {},
   "source": [
    "### Apply custom transformers"
   ]
  },
  {
   "cell_type": "code",
   "execution_count": null,
   "metadata": {},
   "outputs": [],
   "source": [
    "train_df = category_cleaner(train_df)\n",
    "train_df = df_cleaner(train_df)\n",
    "train_df = category_compliter(train_df)\n",
    "train_df = zero_droper(train_df)"
   ]
  },
  {
   "cell_type": "markdown",
   "metadata": {},
   "source": [
    "### Handle null values"
   ]
  },
  {
   "cell_type": "code",
   "execution_count": null,
   "metadata": {},
   "outputs": [],
   "source": [
    "null_train = precentage_null(train_df)\n",
    "print(null_train)"
   ]
  },
  {
   "cell_type": "code",
   "execution_count": null,
   "metadata": {},
   "outputs": [],
   "source": [
    "columns_to_check = [\"city\", \"state\", \"country\"]\n",
    "train_df = train_df.dropna(subset=columns_to_check, how=\"any\")"
   ]
  },
  {
   "cell_type": "code",
   "execution_count": null,
   "metadata": {},
   "outputs": [],
   "source": [
    "null_test = precentage_null(test_df)\n",
    "print(null_test)"
   ]
  },
  {
   "cell_type": "code",
   "execution_count": null,
   "metadata": {},
   "outputs": [],
   "source": [
    "columns_to_check = [\"city\", \"state\", \"country\"]\n",
    "test_df = test_df.dropna(subset=columns_to_check, how=\"any\")"
   ]
  },
  {
   "cell_type": "markdown",
   "metadata": {},
   "source": [
    "### Encoding sparse features"
   ]
  },
  {
   "cell_type": "code",
   "execution_count": null,
   "metadata": {},
   "outputs": [],
   "source": [
    "cols_dense = [\"age\", \"year_of_publication\"]\n",
    "cols_sparse = ['location',\n",
    "               'publisher','Language','Category',\n",
    "              'city','state','country']"
   ]
  },
  {
   "cell_type": "code",
   "execution_count": null,
   "metadata": {},
   "outputs": [],
   "source": [
    "def encode(col, map_rev):\n",
    "    encoded_values = []\n",
    "    for item in col:\n",
    "        if pd.notna(item):  # Check if the value is not NaN\n",
    "            encoded_value = map_rev.get(item, item)\n",
    "            encoded_values.append(encoded_value)\n",
    "        else:\n",
    "            # Handle NaN values as needed\n",
    "            encoded_values.append('NaN')\n",
    "    return encoded_values\n"
   ]
  },
  {
   "cell_type": "code",
   "execution_count": null,
   "metadata": {},
   "outputs": [],
   "source": [
    "map_sparse = {}\n",
    "map_sparse_rev = {}"
   ]
  },
  {
   "cell_type": "code",
   "execution_count": null,
   "metadata": {},
   "outputs": [],
   "source": [
    "for feat in cols_sparse:\n",
    "    map_sparse[feat] = {i: c for i,c in enumerate(train_df[feat].explode().value_counts().index)}\n",
    "    map_sparse_rev[feat] = {v:k for k, v in map_sparse[feat].items()}\n",
    "\n",
    "    train_df[feat+'_enc'] = train_df[feat].apply(lambda x: encode(x, map_sparse_rev[feat]))\n",
    "    test_df[feat+'_enc'] = test_df[feat].apply(lambda x: encode(x, map_sparse_rev[feat]))\n"
   ]
  },
  {
   "cell_type": "code",
   "execution_count": null,
   "metadata": {},
   "outputs": [],
   "source": [
    "map_sparse"
   ]
  },
  {
   "cell_type": "markdown",
   "metadata": {},
   "source": [
    "### Build data batches"
   ]
  },
  {
   "cell_type": "code",
   "execution_count": null,
   "metadata": {},
   "outputs": [],
   "source": [
    "train_data = RecBatch(\n",
    "    data = train_df,\n",
    "    cols_sparse = [c+'_enc' for c in cols_sparse],\n",
    "    cols_dense = cols_dense,\n",
    "    col_label = \"label\",\n",
    "    batch_size = 100,\n",
    "    num_generated_batches = 20,\n",
    "    seed = 123,\n",
    "    device = device\n",
    ")"
   ]
  },
  {
   "cell_type": "code",
   "execution_count": null,
   "metadata": {},
   "outputs": [],
   "source": []
  },
  {
   "cell_type": "code",
   "execution_count": null,
   "metadata": {},
   "outputs": [],
   "source": []
  }
 ],
 "metadata": {
  "kernelspec": {
   "display_name": "Python 3 (ipykernel)",
   "language": "python",
   "name": "python3"
  },
  "language_info": {
   "codemirror_mode": {
    "name": "ipython",
    "version": 3
   },
   "file_extension": ".py",
   "mimetype": "text/x-python",
   "name": "python",
   "nbconvert_exporter": "python",
   "pygments_lexer": "ipython3",
   "version": "3.11.3"
  }
 },
 "nbformat": 4,
 "nbformat_minor": 2
}
